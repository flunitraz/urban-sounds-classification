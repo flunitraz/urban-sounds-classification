{
  "cells": [
    {
      "cell_type": "markdown",
      "source": [
        "Load required libraries"
      ],
      "metadata": {
        "id": "otP9R44MYtiQ"
      }
    },
    {
      "cell_type": "code",
      "execution_count": 1,
      "metadata": {
        "id": "XtbbQeUyIe99"
      },
      "outputs": [],
      "source": [
        "import pandas as pd\n",
        "import numpy as np\n",
        "import librosa\n",
        "import cv2\n",
        "import glob\n",
        "import os\n",
        "import matplotlib.pyplot as plt\n",
        "import matplotlib.image as mpimg\n",
        "from sklearn.model_selection import train_test_split\n",
        "from google.colab import drive"
      ]
    },
    {
      "cell_type": "markdown",
      "metadata": {
        "id": "2UyPNlWUI51D"
      },
      "source": [
        "Load data"
      ]
    },
    {
      "cell_type": "code",
      "execution_count": 2,
      "metadata": {
        "id": "gTYajXHEO_-m",
        "colab": {
          "base_uri": "https://localhost:8080/"
        },
        "outputId": "37283919-9a05-4de1-d598-796ae64a9b9d"
      },
      "outputs": [
        {
          "output_type": "stream",
          "name": "stdout",
          "text": [
            "Mounted at /content/drive\n"
          ]
        }
      ],
      "source": [
        "drive.mount('/content/drive')"
      ]
    },
    {
      "cell_type": "markdown",
      "metadata": {
        "id": "19tbeV7XMdfX"
      },
      "source": [
        "Add image paths to path_list"
      ]
    },
    {
      "cell_type": "code",
      "execution_count": 3,
      "metadata": {
        "id": "wcaTH5eihKxS"
      },
      "outputs": [],
      "source": [
        "path_list = []\n",
        "sub_dirs = np.array(['0','1','2','3','4','5','6','7','8','9'])\n",
        "for sub_dir in sub_dirs:\n",
        "  for spec in glob.glob(os.path.join('/content/drive/MyDrive/spectrograms',sub_dir,'*.png')):\n",
        "    path_list.append(spec)"
      ]
    },
    {
      "cell_type": "markdown",
      "metadata": {
        "id": "I6VuKeWrMa24"
      },
      "source": [
        "Read all images and add image_list after grayscale, normalization and reshaping."
      ]
    },
    {
      "cell_type": "code",
      "execution_count": 4,
      "metadata": {
        "id": "BbIMMhp0Kmr1"
      },
      "outputs": [],
      "source": [
        "'''tags = {\n",
        "0 : 'air_conditioner',\n",
        "1 : 'car_horn',\n",
        "2 : 'children_playing',\n",
        "3 : 'dog_bark',\n",
        "4 : 'drilling',\n",
        "5 : 'engine_idling',\n",
        "6 : 'gun_shot',\n",
        "7 : 'jackhammer',\n",
        "8 : 'siren',\n",
        "9 : 'street_music'}\n",
        "'''\n",
        "\n",
        "image_list = []\n",
        "tag_list = []\n",
        "for path in path_list:\n",
        "    img = cv2.imread(path)\n",
        "    class_id = path.split('/')[6].split('-')[1]\n",
        "    img = cv2.cvtColor(img, cv2.COLOR_RGB2GRAY) #Grayscale\n",
        "    img = img / 255 # Normalization\n",
        "    img = cv2.resize(img, (128, 128)) #Resize\n",
        "    image_list.append(img)\n",
        "    tag_list.append(class_id)"
      ]
    },
    {
      "cell_type": "markdown",
      "source": [
        "Covert to dataframe for processing"
      ],
      "metadata": {
        "id": "K1JqADZvateD"
      }
    },
    {
      "cell_type": "code",
      "execution_count": 6,
      "metadata": {
        "id": "73ElxGaaLB6-",
        "colab": {
          "base_uri": "https://localhost:8080/"
        },
        "outputId": "b42530ea-b926-4d31-d24f-2c834a5d3b9c"
      },
      "outputs": [
        {
          "output_type": "execute_result",
          "data": {
            "text/plain": [
              "(8732, 128, 128)"
            ]
          },
          "metadata": {},
          "execution_count": 6
        }
      ],
      "source": [
        "image_list = np.array(image_list)\n",
        "image_list.shape"
      ]
    },
    {
      "cell_type": "code",
      "source": [
        "tag_list = np.array(tag_list)\n",
        "tag_list.shape"
      ],
      "metadata": {
        "id": "tga8yqwMXg1E",
        "colab": {
          "base_uri": "https://localhost:8080/"
        },
        "outputId": "b60f30fb-8044-4120-dfa6-126b1fab9990"
      },
      "execution_count": 7,
      "outputs": [
        {
          "output_type": "execute_result",
          "data": {
            "text/plain": [
              "(8732,)"
            ]
          },
          "metadata": {},
          "execution_count": 7
        }
      ]
    },
    {
      "cell_type": "code",
      "source": [
        "X = image_list\n",
        "Y = tag_list"
      ],
      "metadata": {
        "id": "YYDgHVxEYGsZ"
      },
      "execution_count": 8,
      "outputs": []
    },
    {
      "cell_type": "code",
      "source": [
        "print(f\"len of dataset = {len(X)}\")"
      ],
      "metadata": {
        "id": "uoTnnmuSYXhd",
        "colab": {
          "base_uri": "https://localhost:8080/"
        },
        "outputId": "b61dda42-7726-4b10-f458-f30fa766e791"
      },
      "execution_count": 9,
      "outputs": [
        {
          "output_type": "stream",
          "name": "stdout",
          "text": [
            "len of dataset = 8732\n"
          ]
        }
      ]
    },
    {
      "cell_type": "markdown",
      "source": [
        "Create train, validation and test data\n"
      ],
      "metadata": {
        "id": "6-SnvmbUa4vq"
      }
    },
    {
      "cell_type": "code",
      "source": [
        "x_train, x_temp, y_train, y_temp = train_test_split(X,Y, train_size = 0.8)\n",
        "x_val, x_test, y_val, y_test = train_test_split(x_temp, y_temp, train_size = 0.5)"
      ],
      "metadata": {
        "id": "LFHAcfXtYwrw"
      },
      "execution_count": 10,
      "outputs": []
    },
    {
      "cell_type": "code",
      "source": [
        "print(f\"len of x_val = {len(x_val)}\")\n",
        "print(f\"len of x_test = {len(x_test)}\")\n",
        "print(f\"len of x_train = {len(x_train)}\")"
      ],
      "metadata": {
        "id": "UMN21uq0ZGkL",
        "colab": {
          "base_uri": "https://localhost:8080/"
        },
        "outputId": "9ec61066-9d02-4744-bd43-673ceb01af5a"
      },
      "execution_count": 11,
      "outputs": [
        {
          "output_type": "stream",
          "name": "stdout",
          "text": [
            "len of x_val = 873\n",
            "len of x_test = 874\n",
            "len of x_train = 6985\n"
          ]
        }
      ]
    },
    {
      "cell_type": "markdown",
      "source": [
        "Export datasets."
      ],
      "metadata": {
        "id": "LLPYqsdeeo8F"
      }
    },
    {
      "cell_type": "code",
      "execution_count": 12,
      "metadata": {
        "id": "d50ckpnfNWE2"
      },
      "outputs": [],
      "source": [
        "np.save('/content/drive/MyDrive/datasets/x_train', x_train)\n",
        "np.save('/content/drive/MyDrive/datasets/x_val', x_val)\n",
        "np.save('/content/drive/MyDrive/datasets/x_test', x_test)\n",
        "np.save('/content/drive/MyDrive/datasets/y_train', y_train)\n",
        "np.save('/content/drive/MyDrive/datasets/y_val', y_val)\n",
        "np.save('/content/drive/MyDrive/datasets/y_test', y_test)"
      ]
    }
  ],
  "metadata": {
    "colab": {
      "collapsed_sections": [],
      "provenance": []
    },
    "kernelspec": {
      "display_name": "Python 3",
      "name": "python3"
    },
    "language_info": {
      "name": "python"
    },
    "accelerator": "TPU"
  },
  "nbformat": 4,
  "nbformat_minor": 0
}