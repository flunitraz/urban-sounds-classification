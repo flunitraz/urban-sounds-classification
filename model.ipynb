{
  "nbformat": 4,
  "nbformat_minor": 0,
  "metadata": {
    "colab": {
      "provenance": []
    },
    "kernelspec": {
      "name": "python3",
      "display_name": "Python 3"
    },
    "language_info": {
      "name": "python"
    },
    "accelerator": "GPU"
  },
  "cells": [
    {
      "cell_type": "code",
      "execution_count": 1,
      "metadata": {
        "id": "KkrW8pJn9Wy1"
      },
      "outputs": [],
      "source": [
        "import pandas as pd\n",
        "import numpy as np\n",
        "import matplotlib.pyplot as plt\n",
        "import tensorflow as tf"
      ]
    },
    {
      "cell_type": "markdown",
      "source": [
        "Veriler drive uzerinden cekildi."
      ],
      "metadata": {
        "id": "0Cd2eDo4_FR0"
      }
    },
    {
      "cell_type": "code",
      "source": [
        "from google.colab import drive\n",
        "drive.mount('/content/drive')"
      ],
      "metadata": {
        "colab": {
          "base_uri": "https://localhost:8080/"
        },
        "id": "QYeY5qYZQUd3",
        "outputId": "fd221275-1555-482f-f9a7-1865b9f3dcba"
      },
      "execution_count": 2,
      "outputs": [
        {
          "output_type": "stream",
          "name": "stdout",
          "text": [
            "Drive already mounted at /content/drive; to attempt to forcibly remount, call drive.mount(\"/content/drive\", force_remount=True).\n"
          ]
        }
      ]
    },
    {
      "cell_type": "code",
      "source": [
        "x_test = np.load('/content/drive/MyDrive/x_test.npy',allow_pickle=True)\n",
        "x_train = np.load('/content/drive/MyDrive/x_train.npy',allow_pickle=True)\n",
        "x_val = np.load('/content/drive/MyDrive/x_val.npy',allow_pickle=True)\n",
        "y_test = np.load('/content/drive/MyDrive/y_test.npy',allow_pickle=True)\n",
        "y_train = np.load('/content/drive/MyDrive/y_train.npy',allow_pickle=True)\n",
        "y_val = np.load('/content/drive/MyDrive/y_val.npy',allow_pickle=True)"
      ],
      "metadata": {
        "id": "6A-VmhSGQHWa"
      },
      "execution_count": 3,
      "outputs": []
    },
    {
      "cell_type": "code",
      "source": [
        "print(f\"len of x_train = {len(x_train)}\")\n",
        "print(f\"len of x_test = {len(x_test)}\")\n",
        "print(f\"len of x_val = {len(x_val)}\")"
      ],
      "metadata": {
        "colab": {
          "base_uri": "https://localhost:8080/"
        },
        "id": "xRprPAaGQUGX",
        "outputId": "e94ed24a-af27-4270-c506-d71888189b33"
      },
      "execution_count": 4,
      "outputs": [
        {
          "output_type": "stream",
          "name": "stdout",
          "text": [
            "len of x_train = 6985\n",
            "len of x_test = 874\n",
            "len of x_val = 873\n"
          ]
        }
      ]
    },
    {
      "cell_type": "markdown",
      "source": [
        "Conv2D ile derin ogrenme yapilabilmesi icin input_shape duzenledi."
      ],
      "metadata": {
        "id": "Ot9BWCmh_ST5"
      }
    },
    {
      "cell_type": "code",
      "source": [
        "x_test.shape"
      ],
      "metadata": {
        "colab": {
          "base_uri": "https://localhost:8080/"
        },
        "id": "7aLSPgyQf1Wv",
        "outputId": "1ba2faad-5c44-453d-d348-ffc6f7d421e1"
      },
      "execution_count": 5,
      "outputs": [
        {
          "output_type": "execute_result",
          "data": {
            "text/plain": [
              "(874, 128, 128)"
            ]
          },
          "metadata": {},
          "execution_count": 5
        }
      ]
    },
    {
      "cell_type": "code",
      "source": [
        "x_test = x_test.reshape(x_test.shape + (1,))"
      ],
      "metadata": {
        "id": "enjua4mUf1Zm"
      },
      "execution_count": 6,
      "outputs": []
    },
    {
      "cell_type": "code",
      "source": [
        "x_test.shape"
      ],
      "metadata": {
        "colab": {
          "base_uri": "https://localhost:8080/"
        },
        "id": "5lim4ddlf1cV",
        "outputId": "4228fa25-64a3-47ff-8244-44fc6397e739"
      },
      "execution_count": 7,
      "outputs": [
        {
          "output_type": "execute_result",
          "data": {
            "text/plain": [
              "(874, 128, 128, 1)"
            ]
          },
          "metadata": {},
          "execution_count": 7
        }
      ]
    },
    {
      "cell_type": "code",
      "source": [
        "x_train = x_train.reshape(x_train.shape + (1,))\n",
        "x_val = x_val.reshape(x_val.shape + (1,))"
      ],
      "metadata": {
        "id": "uDFr3dwBf1e0"
      },
      "execution_count": 8,
      "outputs": []
    },
    {
      "cell_type": "code",
      "source": [
        "x_train[1]"
      ],
      "metadata": {
        "colab": {
          "base_uri": "https://localhost:8080/"
        },
        "id": "V3gSBN2747oS",
        "outputId": "3af111a1-9c7f-4655-cf93-73f72c34274e"
      },
      "execution_count": 16,
      "outputs": [
        {
          "output_type": "execute_result",
          "data": {
            "text/plain": [
              "array([[[3.9215689e-03],\n",
              "        [1.2108701e-06],\n",
              "        [5.0540657e-06],\n",
              "        ...,\n",
              "        [5.0540657e-06],\n",
              "        [5.0540657e-06],\n",
              "        [5.0540657e-06]],\n",
              "\n",
              "       [[3.9215689e-03],\n",
              "        [1.8901384e-06],\n",
              "        [7.0126880e-06],\n",
              "        ...,\n",
              "        [7.0126880e-06],\n",
              "        [7.0126880e-06],\n",
              "        [7.0126880e-06]],\n",
              "\n",
              "       [[3.9215689e-03],\n",
              "        [1.8901384e-06],\n",
              "        [7.0126880e-06],\n",
              "        ...,\n",
              "        [7.0126880e-06],\n",
              "        [7.0126880e-06],\n",
              "        [7.0126880e-06]],\n",
              "\n",
              "       ...,\n",
              "\n",
              "       [[3.9215689e-03],\n",
              "        [6.7290588e-04],\n",
              "        [2.3668744e-03],\n",
              "        ...,\n",
              "        [2.8753711e-03],\n",
              "        [3.1020222e-03],\n",
              "        [2.1489847e-03]],\n",
              "\n",
              "       [[3.9215689e-03],\n",
              "        [4.1751709e-04],\n",
              "        [4.3432816e-04],\n",
              "        ...,\n",
              "        [4.3432816e-04],\n",
              "        [4.3432816e-04],\n",
              "        [4.3432816e-04]],\n",
              "\n",
              "       [[3.9215689e-03],\n",
              "        [3.9215689e-03],\n",
              "        [3.9215689e-03],\n",
              "        ...,\n",
              "        [3.9215689e-03],\n",
              "        [3.9215689e-03],\n",
              "        [3.9215689e-03]]], dtype=float32)"
            ]
          },
          "metadata": {},
          "execution_count": 16
        }
      ]
    },
    {
      "cell_type": "markdown",
      "source": [
        "y verilerimiz \"0\",\"1\"... seklinde str olarak cekildi. Modelde kullanilmak uzere int32'ye cevrildi."
      ],
      "metadata": {
        "id": "-gh03lEk_ejj"
      }
    },
    {
      "cell_type": "code",
      "source": [
        "y_train = y_train.astype(np.int32)\n",
        "y_test = y_test.astype(np.int32)\n",
        "y_val = y_val.astype(np.int32)"
      ],
      "metadata": {
        "id": "QWioMpkHf1ha"
      },
      "execution_count": 9,
      "outputs": []
    },
    {
      "cell_type": "markdown",
      "source": [
        "Model olusturulmasi"
      ],
      "metadata": {
        "id": "lni1CdFW-8T6"
      }
    },
    {
      "cell_type": "code",
      "source": [
        "model=tf.keras.Sequential()"
      ],
      "metadata": {
        "id": "EnEySCJGf1j_"
      },
      "execution_count": 10,
      "outputs": []
    },
    {
      "cell_type": "code",
      "source": [
        "model.add(tf.keras.layers.Conv2D(32, kernel_size=(3,3), kernel_regularizer=tf.keras.regularizers.L1(0.005), padding=\"same\", activation=\"relu\", input_shape=(128,128,1)))\n",
        "model.add(tf.keras.layers.BatchNormalization())\n",
        "\n",
        "model.add(tf.keras.layers.Conv2D(64, kernel_size=(3,3), kernel_regularizer=tf.keras.regularizers.L1(0.001), padding=\"same\", activation=\"relu\"))\n",
        "model.add(tf.keras.layers.BatchNormalization())\n",
        "\n",
        "model.add(tf.keras.layers.Conv2D(64, kernel_size=(3,3), kernel_regularizer=tf.keras.regularizers.L1(0.001), padding=\"same\", activation=\"relu\"))\n",
        "model.add(tf.keras.layers.BatchNormalization())\n",
        "\n",
        "model.add(tf.keras.layers.GlobalMaxPooling2D())\n",
        "\n",
        "model.add(tf.keras.layers.Dense(64, activation=\"relu\"))\n",
        "\n",
        "model.add(tf.keras.layers.Dense(10, activation=\"softmax\"))\n",
        "\n",
        "model.compile(loss='sparse_categorical_crossentropy', optimizer='adam', metrics=['accuracy'])"
      ],
      "metadata": {
        "id": "ABJaFEfnf1mr"
      },
      "execution_count": 11,
      "outputs": []
    },
    {
      "cell_type": "markdown",
      "source": [
        "Model ozeti"
      ],
      "metadata": {
        "id": "5_UWdfOn_Bk0"
      }
    },
    {
      "cell_type": "code",
      "source": [
        "model.summary()\n"
      ],
      "metadata": {
        "colab": {
          "base_uri": "https://localhost:8080/"
        },
        "id": "rvlc8Lq4_yCG",
        "outputId": "7dbd5015-caa4-4fbf-f9eb-0c4def50898b"
      },
      "execution_count": 12,
      "outputs": [
        {
          "output_type": "stream",
          "name": "stdout",
          "text": [
            "Model: \"sequential\"\n",
            "_________________________________________________________________\n",
            " Layer (type)                Output Shape              Param #   \n",
            "=================================================================\n",
            " conv2d (Conv2D)             (None, 128, 128, 32)      320       \n",
            "                                                                 \n",
            " batch_normalization (BatchN  (None, 128, 128, 32)     128       \n",
            " ormalization)                                                   \n",
            "                                                                 \n",
            " conv2d_1 (Conv2D)           (None, 128, 128, 64)      18496     \n",
            "                                                                 \n",
            " batch_normalization_1 (Batc  (None, 128, 128, 64)     256       \n",
            " hNormalization)                                                 \n",
            "                                                                 \n",
            " conv2d_2 (Conv2D)           (None, 128, 128, 64)      36928     \n",
            "                                                                 \n",
            " batch_normalization_2 (Batc  (None, 128, 128, 64)     256       \n",
            " hNormalization)                                                 \n",
            "                                                                 \n",
            " global_max_pooling2d (Globa  (None, 64)               0         \n",
            " lMaxPooling2D)                                                  \n",
            "                                                                 \n",
            " dense (Dense)               (None, 64)                4160      \n",
            "                                                                 \n",
            " dense_1 (Dense)             (None, 10)                650       \n",
            "                                                                 \n",
            "=================================================================\n",
            "Total params: 61,194\n",
            "Trainable params: 60,874\n",
            "Non-trainable params: 320\n",
            "_________________________________________________________________\n"
          ]
        }
      ]
    },
    {
      "cell_type": "markdown",
      "source": [
        "Modelin egitilmesi"
      ],
      "metadata": {
        "id": "4Ld0gASB_yRN"
      }
    },
    {
      "cell_type": "code",
      "source": [
        "results = model.fit(x=x_train, y=y_train, batch_size=128, epochs=50, validation_data=(x_val, y_val))"
      ],
      "metadata": {
        "colab": {
          "base_uri": "https://localhost:8080/"
        },
        "id": "Qe5CKLS6RDLD",
        "outputId": "45a79c62-b7bc-40d0-b389-9f981be5202a"
      },
      "execution_count": 13,
      "outputs": [
        {
          "output_type": "stream",
          "name": "stdout",
          "text": [
            "Epoch 1/50\n",
            "55/55 [==============================] - 30s 399ms/step - loss: 4.2391 - accuracy: 0.2865 - val_loss: 4.2506 - val_accuracy: 0.1145\n",
            "Epoch 2/50\n",
            "55/55 [==============================] - 16s 296ms/step - loss: 3.3292 - accuracy: 0.4535 - val_loss: 3.9715 - val_accuracy: 0.1145\n",
            "Epoch 3/50\n",
            "55/55 [==============================] - 16s 297ms/step - loss: 2.8871 - accuracy: 0.5241 - val_loss: 3.7423 - val_accuracy: 0.1077\n",
            "Epoch 4/50\n",
            "55/55 [==============================] - 16s 298ms/step - loss: 2.5806 - accuracy: 0.5619 - val_loss: 3.5591 - val_accuracy: 0.1077\n",
            "Epoch 5/50\n",
            "55/55 [==============================] - 17s 302ms/step - loss: 2.3336 - accuracy: 0.6042 - val_loss: 3.4091 - val_accuracy: 0.0905\n",
            "Epoch 6/50\n",
            "55/55 [==============================] - 17s 302ms/step - loss: 2.1288 - accuracy: 0.6298 - val_loss: 3.2932 - val_accuracy: 0.1145\n",
            "Epoch 7/50\n",
            "55/55 [==============================] - 17s 301ms/step - loss: 1.9489 - accuracy: 0.6507 - val_loss: 3.1918 - val_accuracy: 0.1145\n",
            "Epoch 8/50\n",
            "55/55 [==============================] - 16s 300ms/step - loss: 1.8214 - accuracy: 0.6673 - val_loss: 3.1063 - val_accuracy: 0.1145\n",
            "Epoch 9/50\n",
            "55/55 [==============================] - 16s 300ms/step - loss: 1.6999 - accuracy: 0.6816 - val_loss: 3.0409 - val_accuracy: 0.1145\n",
            "Epoch 10/50\n",
            "55/55 [==============================] - 17s 300ms/step - loss: 1.5771 - accuracy: 0.7108 - val_loss: 2.8966 - val_accuracy: 0.1443\n",
            "Epoch 11/50\n",
            "55/55 [==============================] - 17s 300ms/step - loss: 1.5106 - accuracy: 0.7122 - val_loss: 2.6373 - val_accuracy: 0.2520\n",
            "Epoch 12/50\n",
            "55/55 [==============================] - 17s 300ms/step - loss: 1.4110 - accuracy: 0.7330 - val_loss: 2.3009 - val_accuracy: 0.4570\n",
            "Epoch 13/50\n",
            "55/55 [==============================] - 17s 300ms/step - loss: 1.3499 - accuracy: 0.7399 - val_loss: 1.9217 - val_accuracy: 0.5372\n",
            "Epoch 14/50\n",
            "55/55 [==============================] - 17s 300ms/step - loss: 1.3113 - accuracy: 0.7406 - val_loss: 1.5759 - val_accuracy: 0.6415\n",
            "Epoch 15/50\n",
            "55/55 [==============================] - 17s 303ms/step - loss: 1.2497 - accuracy: 0.7522 - val_loss: 1.4564 - val_accuracy: 0.6621\n",
            "Epoch 16/50\n",
            "55/55 [==============================] - 17s 301ms/step - loss: 1.1818 - accuracy: 0.7714 - val_loss: 1.3122 - val_accuracy: 0.7216\n",
            "Epoch 17/50\n",
            "55/55 [==============================] - 17s 300ms/step - loss: 1.1671 - accuracy: 0.7649 - val_loss: 1.2417 - val_accuracy: 0.7400\n",
            "Epoch 18/50\n",
            "55/55 [==============================] - 16s 300ms/step - loss: 1.1216 - accuracy: 0.7739 - val_loss: 1.3915 - val_accuracy: 0.6827\n",
            "Epoch 19/50\n",
            "55/55 [==============================] - 16s 300ms/step - loss: 1.0924 - accuracy: 0.7828 - val_loss: 1.3998 - val_accuracy: 0.6701\n",
            "Epoch 20/50\n",
            "55/55 [==============================] - 16s 300ms/step - loss: 1.0589 - accuracy: 0.7890 - val_loss: 1.2037 - val_accuracy: 0.7274\n",
            "Epoch 21/50\n",
            "55/55 [==============================] - 17s 300ms/step - loss: 1.0335 - accuracy: 0.7936 - val_loss: 1.2184 - val_accuracy: 0.7262\n",
            "Epoch 22/50\n",
            "55/55 [==============================] - 17s 300ms/step - loss: 1.0248 - accuracy: 0.7964 - val_loss: 1.2019 - val_accuracy: 0.7308\n",
            "Epoch 23/50\n",
            "55/55 [==============================] - 17s 300ms/step - loss: 1.0045 - accuracy: 0.7997 - val_loss: 1.2729 - val_accuracy: 0.7010\n",
            "Epoch 24/50\n",
            "55/55 [==============================] - 16s 300ms/step - loss: 0.9775 - accuracy: 0.8043 - val_loss: 1.1991 - val_accuracy: 0.7480\n",
            "Epoch 25/50\n",
            "55/55 [==============================] - 17s 301ms/step - loss: 0.9484 - accuracy: 0.8180 - val_loss: 1.1541 - val_accuracy: 0.7434\n",
            "Epoch 26/50\n",
            "55/55 [==============================] - 17s 300ms/step - loss: 0.9436 - accuracy: 0.8083 - val_loss: 1.1030 - val_accuracy: 0.7732\n",
            "Epoch 27/50\n",
            "55/55 [==============================] - 16s 300ms/step - loss: 0.9033 - accuracy: 0.8235 - val_loss: 1.4306 - val_accuracy: 0.6930\n",
            "Epoch 28/50\n",
            "55/55 [==============================] - 16s 300ms/step - loss: 0.9289 - accuracy: 0.8097 - val_loss: 1.2807 - val_accuracy: 0.7159\n",
            "Epoch 29/50\n",
            "55/55 [==============================] - 16s 300ms/step - loss: 0.9002 - accuracy: 0.8202 - val_loss: 1.1471 - val_accuracy: 0.7400\n",
            "Epoch 30/50\n",
            "55/55 [==============================] - 16s 300ms/step - loss: 0.8657 - accuracy: 0.8321 - val_loss: 1.1429 - val_accuracy: 0.7365\n",
            "Epoch 31/50\n",
            "55/55 [==============================] - 16s 300ms/step - loss: 0.8545 - accuracy: 0.8324 - val_loss: 1.3626 - val_accuracy: 0.6861\n",
            "Epoch 32/50\n",
            "55/55 [==============================] - 16s 300ms/step - loss: 0.8671 - accuracy: 0.8276 - val_loss: 1.3875 - val_accuracy: 0.6712\n",
            "Epoch 33/50\n",
            "55/55 [==============================] - 16s 300ms/step - loss: 0.8465 - accuracy: 0.8292 - val_loss: 1.1172 - val_accuracy: 0.7514\n",
            "Epoch 34/50\n",
            "55/55 [==============================] - 16s 300ms/step - loss: 0.8239 - accuracy: 0.8391 - val_loss: 1.1937 - val_accuracy: 0.7297\n",
            "Epoch 35/50\n",
            "55/55 [==============================] - 16s 300ms/step - loss: 0.8236 - accuracy: 0.8344 - val_loss: 1.1239 - val_accuracy: 0.7514\n",
            "Epoch 36/50\n",
            "55/55 [==============================] - 17s 301ms/step - loss: 0.8109 - accuracy: 0.8411 - val_loss: 1.2345 - val_accuracy: 0.7251\n",
            "Epoch 37/50\n",
            "55/55 [==============================] - 16s 300ms/step - loss: 0.7864 - accuracy: 0.8490 - val_loss: 1.1536 - val_accuracy: 0.7354\n",
            "Epoch 38/50\n",
            "55/55 [==============================] - 16s 300ms/step - loss: 0.8035 - accuracy: 0.8397 - val_loss: 1.1380 - val_accuracy: 0.7583\n",
            "Epoch 39/50\n",
            "55/55 [==============================] - 16s 299ms/step - loss: 0.7619 - accuracy: 0.8555 - val_loss: 1.5581 - val_accuracy: 0.6735\n",
            "Epoch 40/50\n",
            "55/55 [==============================] - 16s 299ms/step - loss: 0.7899 - accuracy: 0.8458 - val_loss: 1.0633 - val_accuracy: 0.7675\n",
            "Epoch 41/50\n",
            "55/55 [==============================] - 16s 299ms/step - loss: 0.7733 - accuracy: 0.8520 - val_loss: 1.0769 - val_accuracy: 0.7686\n",
            "Epoch 42/50\n",
            "55/55 [==============================] - 16s 299ms/step - loss: 0.7384 - accuracy: 0.8644 - val_loss: 1.4242 - val_accuracy: 0.6724\n",
            "Epoch 43/50\n",
            "55/55 [==============================] - 16s 300ms/step - loss: 0.7612 - accuracy: 0.8511 - val_loss: 1.2671 - val_accuracy: 0.7102\n",
            "Epoch 44/50\n",
            "55/55 [==============================] - 16s 300ms/step - loss: 0.7561 - accuracy: 0.8564 - val_loss: 1.1277 - val_accuracy: 0.7308\n",
            "Epoch 45/50\n",
            "55/55 [==============================] - 16s 299ms/step - loss: 0.7520 - accuracy: 0.8551 - val_loss: 1.0076 - val_accuracy: 0.7709\n",
            "Epoch 46/50\n",
            "55/55 [==============================] - 16s 299ms/step - loss: 0.7038 - accuracy: 0.8710 - val_loss: 1.0264 - val_accuracy: 0.7892\n",
            "Epoch 47/50\n",
            "55/55 [==============================] - 16s 299ms/step - loss: 0.7190 - accuracy: 0.8667 - val_loss: 1.0186 - val_accuracy: 0.7743\n",
            "Epoch 48/50\n",
            "55/55 [==============================] - 16s 299ms/step - loss: 0.7160 - accuracy: 0.8647 - val_loss: 1.5652 - val_accuracy: 0.6609\n",
            "Epoch 49/50\n",
            "55/55 [==============================] - 16s 299ms/step - loss: 0.7389 - accuracy: 0.8560 - val_loss: 1.6616 - val_accuracy: 0.6438\n",
            "Epoch 50/50\n",
            "55/55 [==============================] - 16s 299ms/step - loss: 0.7205 - accuracy: 0.8633 - val_loss: 1.1497 - val_accuracy: 0.7503\n"
          ]
        }
      ]
    },
    {
      "cell_type": "markdown",
      "source": [],
      "metadata": {
        "id": "z0g7rxX8Vl_C"
      }
    },
    {
      "cell_type": "code",
      "source": [
        "plt.plot(results.history[\"loss\"], label=\"loss\")\n",
        "plt.plot(results.history[\"val_loss\"], label =\"val_loss\")\n",
        "\n",
        "plt.legend()\n",
        "plt.show()"
      ],
      "metadata": {
        "id": "oT8XBGl3RGAB",
        "colab": {
          "base_uri": "https://localhost:8080/",
          "height": 265
        },
        "outputId": "d3c8b5fb-dcac-406e-f679-fe941c638524"
      },
      "execution_count": 14,
      "outputs": [
        {
          "output_type": "display_data",
          "data": {
            "text/plain": [
              "<Figure size 432x288 with 1 Axes>"
            ],
            "image/png": "[encoded data removed]"
          },
          "metadata": {
            "needs_background": "light"
          }
        }
      ]
    },
    {
      "cell_type": "code",
      "source": [
        "plt.plot(results.history[\"accuracy\"], label=\"accuracy\")\n",
        "plt.plot(results.history[\"val_accuracy\"], label =\"val_accuracy\")\n",
        "\n",
        "plt.legend()\n",
        "plt.show()"
      ],
      "metadata": {
        "colab": {
          "base_uri": "https://localhost:8080/",
          "height": 267
        },
        "id": "KAwkB1uOVtIV",
        "outputId": "6ed67c6b-7cd5-4596-9084-eb39a4a46fde"
      },
      "execution_count": 15,
      "outputs": [
        {
          "output_type": "display_data",
          "data": {
            "text/plain": [
              "<Figure size 432x288 with 1 Axes>"
            ],
            "image/png": "[encoded data removed]"
          },
          "metadata": {
            "needs_background": "light"
          }
        }
      ]
    },
    {
      "cell_type": "code",
      "source": [
        "model.evaluate(x_test,y_test)"
      ],
      "metadata": {
        "colab": {
          "base_uri": "https://localhost:8080/"
        },
        "id": "R7Xp6kAevp6K",
        "outputId": "39c0b491-8f19-44ef-accd-d38dc8206936"
      },
      "execution_count": 19,
      "outputs": [
        {
          "output_type": "stream",
          "name": "stdout",
          "text": [
            "28/28 [==============================] - 2s 31ms/step - loss: 1.1733 - accuracy: 0.7311\n"
          ]
        },
        {
          "output_type": "execute_result",
          "data": {
            "text/plain": [
              "[1.1732844114303589, 0.731121301651001]"
            ]
          },
          "metadata": {},
          "execution_count": 19
        }
      ]
    },
    {
      "cell_type": "markdown",
      "source": [
        "modelin dogrulugu %73 hesaplandi."
      ],
      "metadata": {
        "id": "ihukKvcd_pBb"
      }
    },
    {
      "cell_type": "code",
      "source": [
        "tags = {\n",
        "0 : 'air_conditioner',\n",
        "1 : 'car_horn',\n",
        "2 : 'children_playing',\n",
        "3 : 'dog_bark',\n",
        "4 : 'drilling',\n",
        "5 : 'engine_idling',\n",
        "6 : 'gun_shot',\n",
        "7 : 'jackhammer',\n",
        "8 : 'siren',\n",
        "9 : 'street_music'}"
      ],
      "metadata": {
        "id": "dUI745vC_Yw_"
      },
      "execution_count": 99,
      "outputs": []
    },
    {
      "cell_type": "markdown",
      "source": [
        "testler"
      ],
      "metadata": {
        "id": "2vSfywrN_jyq"
      }
    },
    {
      "cell_type": "code",
      "source": [
        "y_test[3]"
      ],
      "metadata": {
        "colab": {
          "base_uri": "https://localhost:8080/"
        },
        "id": "KhT0eQ438niT",
        "outputId": "ff685224-b8cf-4d14-d109-e49e6ea80247"
      },
      "execution_count": 70,
      "outputs": [
        {
          "output_type": "execute_result",
          "data": {
            "text/plain": [
              "9"
            ]
          },
          "metadata": {},
          "execution_count": 70
        }
      ]
    },
    {
      "cell_type": "code",
      "source": [
        "predict_1 = model.predict(x_test[3].reshape(1,128,128,1))\n",
        "tag_1 = predict_1.argmax()\n",
        "probability_1 = predict_1.max()\n",
        "\n",
        "print(f\"x_test[3] is {probability_1} percent {tags[tag_1]}\")"
      ],
      "metadata": {
        "colab": {
          "base_uri": "https://localhost:8080/"
        },
        "id": "pqbWshO08qjZ",
        "outputId": "0e9e99bd-00d9-44b8-8961-4e1ea75c257c"
      },
      "execution_count": 104,
      "outputs": [
        {
          "output_type": "stream",
          "name": "stdout",
          "text": [
            "x_test[3] is 0.6324378848075867 percent street_music\n"
          ]
        }
      ]
    },
    {
      "cell_type": "code",
      "source": [
        "y_test[33]"
      ],
      "metadata": {
        "colab": {
          "base_uri": "https://localhost:8080/"
        },
        "id": "IpVg8Py--aK5",
        "outputId": "3d7a4334-362a-40fc-8300-2612fa1f8020"
      },
      "execution_count": 89,
      "outputs": [
        {
          "output_type": "execute_result",
          "data": {
            "text/plain": [
              "3"
            ]
          },
          "metadata": {},
          "execution_count": 89
        }
      ]
    },
    {
      "cell_type": "code",
      "source": [
        "predict_2 = model.predict(x_test[33].reshape(1,128,128,1))\n",
        "tag_2 = predict_2.argmax()\n",
        "probability_2 = predict_2.max()\n",
        "\n",
        "print(f\"x_test[33] is {probability_2} percent {tags[tag_2]}\")"
      ],
      "metadata": {
        "colab": {
          "base_uri": "https://localhost:8080/"
        },
        "id": "KWQuoNwO-geL",
        "outputId": "379a8e81-61fd-42bd-c8d5-78a2476b01a7"
      },
      "execution_count": 96,
      "outputs": [
        {
          "output_type": "stream",
          "name": "stdout",
          "text": [
            "x_test[33] is 0.9622654914855957 percent dog_bark\n"
          ]
        }
      ]
    },
    {
      "cell_type": "code",
      "source": [
        "y_test[566]"
      ],
      "metadata": {
        "colab": {
          "base_uri": "https://localhost:8080/"
        },
        "id": "g3YS0kwr-nGk",
        "outputId": "56c7c1a8-930e-4366-de63-de2ebc63c897"
      },
      "execution_count": 97,
      "outputs": [
        {
          "output_type": "execute_result",
          "data": {
            "text/plain": [
              "7"
            ]
          },
          "metadata": {},
          "execution_count": 97
        }
      ]
    },
    {
      "cell_type": "code",
      "source": [
        "predict_3 = model.predict(x_test[566].reshape(1,128,128,1))\n",
        "tag_3 = predict_3.argmax()\n",
        "probability_3 = predict_3.max()\n",
        "\n",
        "print(f\"x_test[566] is {probability_3} percent {tags[tag_3]}\")"
      ],
      "metadata": {
        "colab": {
          "base_uri": "https://localhost:8080/"
        },
        "id": "T3djFSOq-qK3",
        "outputId": "4ffe7b97-1f16-4498-f2ff-ede52857e413"
      },
      "execution_count": 98,
      "outputs": [
        {
          "output_type": "stream",
          "name": "stdout",
          "text": [
            "x_test[566] is 0.857923686504364 percent jackhammer\n"
          ]
        }
      ]
    },
    {
      "cell_type": "code",
      "source": [],
      "metadata": {
        "id": "P74TT580_R-W"
      },
      "execution_count": null,
      "outputs": []
    }
  ]
}