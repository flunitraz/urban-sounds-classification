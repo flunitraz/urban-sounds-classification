{
  "cells": [
    {
      "cell_type": "markdown",
      "metadata": {
        "id": "0sfjLwKOqjoX"
      },
      "source": [
        "Load required libraries"
      ]
    },
    {
      "cell_type": "code",
      "execution_count": 1,
      "metadata": {
        "id": "KkrW8pJn9Wy1"
      },
      "outputs": [],
      "source": [
        "import pandas as pd\n",
        "import numpy as np\n",
        "import tensorflow as tf\n",
        "\n",
        "import matplotlib.pyplot as plt\n",
        "import seaborn as sn\n",
        "\n",
        "from google.colab import drive"
      ]
    },
    {
      "cell_type": "markdown",
      "metadata": {
        "id": "0Cd2eDo4_FR0"
      },
      "source": [
        "Load Data"
      ]
    },
    {
      "cell_type": "code",
      "execution_count": 2,
      "metadata": {
        "colab": {
          "base_uri": "https://localhost:8080/"
        },
        "id": "QYeY5qYZQUd3",
        "outputId": "8b622751-5cab-4804-b590-8872596e90d8"
      },
      "outputs": [
        {
          "output_type": "stream",
          "name": "stdout",
          "text": [
            "Drive already mounted at /content/drive; to attempt to forcibly remount, call drive.mount(\"/content/drive\", force_remount=True).\n"
          ]
        }
      ],
      "source": [
        "drive.mount('/content/drive')"
      ]
    },
    {
      "cell_type": "code",
      "execution_count": 3,
      "metadata": {
        "id": "6A-VmhSGQHWa"
      },
      "outputs": [],
      "source": [
        "x_test = np.load('/content/drive/MyDrive/datasets/x_test.npy',allow_pickle=True)\n",
        "x_train = np.load('/content/drive/MyDrive/datasets/x_train.npy',allow_pickle=True)\n",
        "x_val = np.load('/content/drive/MyDrive/datasets/x_val.npy',allow_pickle=True)\n",
        "y_test = np.load('/content/drive/MyDrive/datasets/y_test.npy',allow_pickle=True)\n",
        "y_train = np.load('/content/drive/MyDrive/datasets/y_train.npy',allow_pickle=True)\n",
        "y_val = np.load('/content/drive/MyDrive/datasets/y_val.npy',allow_pickle=True)"
      ]
    },
    {
      "cell_type": "code",
      "execution_count": 4,
      "metadata": {
        "colab": {
          "base_uri": "https://localhost:8080/"
        },
        "id": "xRprPAaGQUGX",
        "outputId": "ef86a0d3-57d1-461e-a05b-cfe9a34dc23c"
      },
      "outputs": [
        {
          "output_type": "stream",
          "name": "stdout",
          "text": [
            "len of x_train = 6985\n",
            "len of x_test = 874\n",
            "len of x_val = 873\n"
          ]
        }
      ],
      "source": [
        "print(f\"len of x_train = {len(x_train)}\")\n",
        "print(f\"len of x_test = {len(x_test)}\")\n",
        "print(f\"len of x_val = {len(x_val)}\")"
      ]
    },
    {
      "cell_type": "markdown",
      "metadata": {
        "id": "Ot9BWCmh_ST5"
      },
      "source": [
        "Reshape data"
      ]
    },
    {
      "cell_type": "code",
      "execution_count": 5,
      "metadata": {
        "colab": {
          "base_uri": "https://localhost:8080/"
        },
        "id": "7aLSPgyQf1Wv",
        "outputId": "6c017285-974d-42a6-99ad-3b4a282b3df4"
      },
      "outputs": [
        {
          "output_type": "execute_result",
          "data": {
            "text/plain": [
              "(874, 128, 128)"
            ]
          },
          "metadata": {},
          "execution_count": 5
        }
      ],
      "source": [
        "x_test.shape"
      ]
    },
    {
      "cell_type": "code",
      "execution_count": 6,
      "metadata": {
        "id": "enjua4mUf1Zm"
      },
      "outputs": [],
      "source": [
        "x_test = x_test.reshape(x_test.shape + (1,))"
      ]
    },
    {
      "cell_type": "code",
      "execution_count": 7,
      "metadata": {
        "colab": {
          "base_uri": "https://localhost:8080/"
        },
        "id": "5lim4ddlf1cV",
        "outputId": "3456d93c-c412-49c8-e4ab-a0126d36b884"
      },
      "outputs": [
        {
          "output_type": "execute_result",
          "data": {
            "text/plain": [
              "(874, 128, 128, 1)"
            ]
          },
          "metadata": {},
          "execution_count": 7
        }
      ],
      "source": [
        "x_test.shape"
      ]
    },
    {
      "cell_type": "code",
      "execution_count": 8,
      "metadata": {
        "id": "uDFr3dwBf1e0"
      },
      "outputs": [],
      "source": [
        "x_train = x_train.reshape(x_train.shape + (1,))\n",
        "x_val = x_val.reshape(x_val.shape + (1,))"
      ]
    },
    {
      "cell_type": "markdown",
      "metadata": {
        "id": "-gh03lEk_ejj"
      },
      "source": [
        "Convert Y values to Integer"
      ]
    },
    {
      "cell_type": "code",
      "execution_count": 9,
      "metadata": {
        "id": "QWioMpkHf1ha"
      },
      "outputs": [],
      "source": [
        "y_train = y_train.astype(np.int32)\n",
        "y_test = y_test.astype(np.int32)\n",
        "y_val = y_val.astype(np.int32)"
      ]
    },
    {
      "cell_type": "markdown",
      "metadata": {
        "id": "lni1CdFW-8T6"
      },
      "source": [
        "Model building"
      ]
    },
    {
      "cell_type": "code",
      "execution_count": 10,
      "metadata": {
        "id": "EnEySCJGf1j_"
      },
      "outputs": [],
      "source": [
        "model=tf.keras.Sequential()"
      ]
    },
    {
      "cell_type": "code",
      "execution_count": 11,
      "metadata": {
        "id": "ABJaFEfnf1mr"
      },
      "outputs": [],
      "source": [
        "model.add(tf.keras.layers.Conv2D(32, kernel_size=(3,3), \n",
        "                                 kernel_regularizer=tf.keras.regularizers.L2(0.007), \n",
        "                                 padding=\"same\", activation=\"relu\", \n",
        "                                 input_shape=(128,128,1)))\n",
        "\n",
        "model.add(tf.keras.layers.BatchNormalization())\n",
        "\n",
        "model.add(tf.keras.layers.Conv2D(32, kernel_size=(3,3), \n",
        "                                 kernel_regularizer=tf.keras.regularizers.L2(0.007), \n",
        "                                 padding=\"same\", activation=\"relu\"))\n",
        "\n",
        "model.add(tf.keras.layers.BatchNormalization())\n",
        "\n",
        "model.add(tf.keras.layers.Conv2D(32, kernel_size=(3,3), \n",
        "                                 kernel_regularizer=tf.keras.regularizers.L2(0.007), \n",
        "                                 padding=\"same\", activation=\"relu\"))\n",
        "\n",
        "model.add(tf.keras.layers.BatchNormalization())\n",
        "\n",
        "model.add(tf.keras.layers.MaxPooling2D((2,2)))\n",
        "\n",
        "model.add(tf.keras.layers.Conv2D(64, kernel_size=(3,3), \n",
        "                                 kernel_regularizer=tf.keras.regularizers.L2(0.007), \n",
        "                                 padding=\"same\", activation=\"relu\"))\n",
        "\n",
        "model.add(tf.keras.layers.BatchNormalization())\n",
        "\n",
        "model.add(tf.keras.layers.GlobalMaxPooling2D())\n",
        "\n",
        "model.add(tf.keras.layers.Dense(10, activation=\"softmax\"))\n",
        "\n",
        "model.compile(loss='sparse_categorical_crossentropy', optimizer='adam', metrics=['accuracy'])"
      ]
    },
    {
      "cell_type": "markdown",
      "metadata": {
        "id": "5_UWdfOn_Bk0"
      },
      "source": [
        "Model summary"
      ]
    },
    {
      "cell_type": "code",
      "execution_count": 12,
      "metadata": {
        "colab": {
          "base_uri": "https://localhost:8080/"
        },
        "id": "rvlc8Lq4_yCG",
        "outputId": "9574020d-b6c5-49c4-fca0-245b48702a9d"
      },
      "outputs": [
        {
          "output_type": "stream",
          "name": "stdout",
          "text": [
            "Model: \"sequential\"\n",
            "_________________________________________________________________\n",
            " Layer (type)                Output Shape              Param #   \n",
            "=================================================================\n",
            " conv2d (Conv2D)             (None, 128, 128, 32)      320       \n",
            "                                                                 \n",
            " batch_normalization (BatchN  (None, 128, 128, 32)     128       \n",
            " ormalization)                                                   \n",
            "                                                                 \n",
            " conv2d_1 (Conv2D)           (None, 128, 128, 32)      9248      \n",
            "                                                                 \n",
            " batch_normalization_1 (Batc  (None, 128, 128, 32)     128       \n",
            " hNormalization)                                                 \n",
            "                                                                 \n",
            " conv2d_2 (Conv2D)           (None, 128, 128, 32)      9248      \n",
            "                                                                 \n",
            " batch_normalization_2 (Batc  (None, 128, 128, 32)     128       \n",
            " hNormalization)                                                 \n",
            "                                                                 \n",
            " max_pooling2d (MaxPooling2D  (None, 64, 64, 32)       0         \n",
            " )                                                               \n",
            "                                                                 \n",
            " conv2d_3 (Conv2D)           (None, 64, 64, 64)        18496     \n",
            "                                                                 \n",
            " batch_normalization_3 (Batc  (None, 64, 64, 64)       256       \n",
            " hNormalization)                                                 \n",
            "                                                                 \n",
            " global_max_pooling2d (Globa  (None, 64)               0         \n",
            " lMaxPooling2D)                                                  \n",
            "                                                                 \n",
            " dense (Dense)               (None, 10)                650       \n",
            "                                                                 \n",
            "=================================================================\n",
            "Total params: 38,602\n",
            "Trainable params: 38,282\n",
            "Non-trainable params: 320\n",
            "_________________________________________________________________\n"
          ]
        }
      ],
      "source": [
        "model.summary()"
      ]
    },
    {
      "cell_type": "markdown",
      "metadata": {
        "id": "4Ld0gASB_yRN"
      },
      "source": [
        "Training the model"
      ]
    },
    {
      "cell_type": "code",
      "execution_count": 13,
      "metadata": {
        "colab": {
          "base_uri": "https://localhost:8080/"
        },
        "id": "Qe5CKLS6RDLD",
        "outputId": "e6f08475-2b8e-4ce2-f7ed-be89875fc09c"
      },
      "outputs": [
        {
          "output_type": "stream",
          "name": "stdout",
          "text": [
            "Epoch 1/70\n",
            "55/55 [==============================] - 22s 261ms/step - loss: 3.5665 - accuracy: 0.2959 - val_loss: 3.0847 - val_accuracy: 0.1191\n",
            "Epoch 2/70\n",
            "55/55 [==============================] - 11s 204ms/step - loss: 2.2251 - accuracy: 0.4770 - val_loss: 3.0541 - val_accuracy: 0.1042\n",
            "Epoch 3/70\n",
            "55/55 [==============================] - 11s 207ms/step - loss: 2.0174 - accuracy: 0.5476 - val_loss: 2.9903 - val_accuracy: 0.1627\n",
            "Epoch 4/70\n",
            "55/55 [==============================] - 11s 206ms/step - loss: 1.8345 - accuracy: 0.6105 - val_loss: 2.9369 - val_accuracy: 0.1363\n",
            "Epoch 5/70\n",
            "55/55 [==============================] - 11s 203ms/step - loss: 1.7340 - accuracy: 0.6419 - val_loss: 2.8565 - val_accuracy: 0.1959\n",
            "Epoch 6/70\n",
            "55/55 [==============================] - 11s 202ms/step - loss: 1.6060 - accuracy: 0.6789 - val_loss: 2.8816 - val_accuracy: 0.1901\n",
            "Epoch 7/70\n",
            "55/55 [==============================] - 11s 200ms/step - loss: 1.5307 - accuracy: 0.6992 - val_loss: 2.7008 - val_accuracy: 0.2772\n",
            "Epoch 8/70\n",
            "55/55 [==============================] - 11s 200ms/step - loss: 1.4401 - accuracy: 0.7263 - val_loss: 2.5210 - val_accuracy: 0.3379\n",
            "Epoch 9/70\n",
            "55/55 [==============================] - 11s 202ms/step - loss: 1.3550 - accuracy: 0.7566 - val_loss: 2.3474 - val_accuracy: 0.4009\n",
            "Epoch 10/70\n",
            "55/55 [==============================] - 11s 203ms/step - loss: 1.2906 - accuracy: 0.7718 - val_loss: 1.9915 - val_accuracy: 0.5109\n",
            "Epoch 11/70\n",
            "55/55 [==============================] - 11s 203ms/step - loss: 1.2312 - accuracy: 0.7848 - val_loss: 1.7192 - val_accuracy: 0.6254\n",
            "Epoch 12/70\n",
            "55/55 [==============================] - 11s 203ms/step - loss: 1.2328 - accuracy: 0.7751 - val_loss: 1.6605 - val_accuracy: 0.6071\n",
            "Epoch 13/70\n",
            "55/55 [==============================] - 11s 202ms/step - loss: 1.1233 - accuracy: 0.8107 - val_loss: 1.4946 - val_accuracy: 0.6793\n",
            "Epoch 14/70\n",
            "55/55 [==============================] - 11s 202ms/step - loss: 1.0945 - accuracy: 0.8120 - val_loss: 1.5102 - val_accuracy: 0.6724\n",
            "Epoch 15/70\n",
            "55/55 [==============================] - 11s 201ms/step - loss: 1.0560 - accuracy: 0.8215 - val_loss: 1.4737 - val_accuracy: 0.6884\n",
            "Epoch 16/70\n",
            "55/55 [==============================] - 11s 202ms/step - loss: 0.9648 - accuracy: 0.8520 - val_loss: 1.4258 - val_accuracy: 0.7022\n",
            "Epoch 17/70\n",
            "55/55 [==============================] - 11s 202ms/step - loss: 0.9468 - accuracy: 0.8505 - val_loss: 1.4915 - val_accuracy: 0.6770\n",
            "Epoch 18/70\n",
            "55/55 [==============================] - 11s 202ms/step - loss: 0.9131 - accuracy: 0.8598 - val_loss: 1.3395 - val_accuracy: 0.7297\n",
            "Epoch 19/70\n",
            "55/55 [==============================] - 11s 202ms/step - loss: 0.8593 - accuracy: 0.8704 - val_loss: 1.3469 - val_accuracy: 0.7045\n",
            "Epoch 20/70\n",
            "55/55 [==============================] - 11s 203ms/step - loss: 0.8504 - accuracy: 0.8686 - val_loss: 1.3331 - val_accuracy: 0.7239\n",
            "Epoch 21/70\n",
            "55/55 [==============================] - 11s 203ms/step - loss: 0.8478 - accuracy: 0.8667 - val_loss: 1.2400 - val_accuracy: 0.7491\n",
            "Epoch 22/70\n",
            "55/55 [==============================] - 11s 203ms/step - loss: 0.8046 - accuracy: 0.8812 - val_loss: 1.3947 - val_accuracy: 0.7205\n",
            "Epoch 23/70\n",
            "55/55 [==============================] - 11s 203ms/step - loss: 0.7675 - accuracy: 0.8912 - val_loss: 1.3160 - val_accuracy: 0.7056\n",
            "Epoch 24/70\n",
            "55/55 [==============================] - 11s 203ms/step - loss: 0.7514 - accuracy: 0.8902 - val_loss: 1.2181 - val_accuracy: 0.7640\n",
            "Epoch 25/70\n",
            "55/55 [==============================] - 11s 202ms/step - loss: 0.7254 - accuracy: 0.8971 - val_loss: 1.2046 - val_accuracy: 0.7468\n",
            "Epoch 26/70\n",
            "55/55 [==============================] - 11s 202ms/step - loss: 0.6502 - accuracy: 0.9241 - val_loss: 1.2539 - val_accuracy: 0.7262\n",
            "Epoch 27/70\n",
            "55/55 [==============================] - 11s 202ms/step - loss: 0.6507 - accuracy: 0.9173 - val_loss: 1.2599 - val_accuracy: 0.7434\n",
            "Epoch 28/70\n",
            "55/55 [==============================] - 11s 202ms/step - loss: 0.6558 - accuracy: 0.9142 - val_loss: 1.3928 - val_accuracy: 0.7171\n",
            "Epoch 29/70\n",
            "55/55 [==============================] - 11s 202ms/step - loss: 0.6263 - accuracy: 0.9180 - val_loss: 1.2969 - val_accuracy: 0.7388\n",
            "Epoch 30/70\n",
            "55/55 [==============================] - 11s 202ms/step - loss: 0.6217 - accuracy: 0.9190 - val_loss: 1.3859 - val_accuracy: 0.7216\n",
            "Epoch 31/70\n",
            "55/55 [==============================] - 11s 202ms/step - loss: 0.6218 - accuracy: 0.9191 - val_loss: 1.3340 - val_accuracy: 0.7102\n",
            "Epoch 32/70\n",
            "55/55 [==============================] - 11s 202ms/step - loss: 0.5736 - accuracy: 0.9333 - val_loss: 1.1723 - val_accuracy: 0.7766\n",
            "Epoch 33/70\n",
            "55/55 [==============================] - 11s 202ms/step - loss: 0.5676 - accuracy: 0.9324 - val_loss: 1.2331 - val_accuracy: 0.7606\n",
            "Epoch 34/70\n",
            "55/55 [==============================] - 11s 202ms/step - loss: 0.5475 - accuracy: 0.9416 - val_loss: 1.0908 - val_accuracy: 0.7915\n",
            "Epoch 35/70\n",
            "55/55 [==============================] - 11s 203ms/step - loss: 0.5518 - accuracy: 0.9343 - val_loss: 1.4079 - val_accuracy: 0.6987\n",
            "Epoch 36/70\n",
            "55/55 [==============================] - 11s 202ms/step - loss: 0.5454 - accuracy: 0.9326 - val_loss: 1.1580 - val_accuracy: 0.7549\n",
            "Epoch 37/70\n",
            "55/55 [==============================] - 11s 203ms/step - loss: 0.5010 - accuracy: 0.9493 - val_loss: 1.1637 - val_accuracy: 0.7778\n",
            "Epoch 38/70\n",
            "55/55 [==============================] - 11s 203ms/step - loss: 0.4817 - accuracy: 0.9522 - val_loss: 1.3532 - val_accuracy: 0.7274\n",
            "Epoch 39/70\n",
            "55/55 [==============================] - 11s 202ms/step - loss: 0.4940 - accuracy: 0.9486 - val_loss: 1.2675 - val_accuracy: 0.7503\n",
            "Epoch 40/70\n",
            "55/55 [==============================] - 11s 203ms/step - loss: 0.5214 - accuracy: 0.9336 - val_loss: 1.4126 - val_accuracy: 0.7125\n",
            "Epoch 41/70\n",
            "55/55 [==============================] - 11s 202ms/step - loss: 0.5037 - accuracy: 0.9360 - val_loss: 1.3984 - val_accuracy: 0.7320\n",
            "Epoch 42/70\n",
            "55/55 [==============================] - 11s 202ms/step - loss: 0.4729 - accuracy: 0.9508 - val_loss: 1.2623 - val_accuracy: 0.7606\n",
            "Epoch 43/70\n",
            "55/55 [==============================] - 11s 202ms/step - loss: 0.4486 - accuracy: 0.9568 - val_loss: 1.1849 - val_accuracy: 0.7526\n",
            "Epoch 44/70\n",
            "55/55 [==============================] - 11s 202ms/step - loss: 0.4288 - accuracy: 0.9666 - val_loss: 1.2034 - val_accuracy: 0.7560\n",
            "Epoch 45/70\n",
            "55/55 [==============================] - 11s 202ms/step - loss: 0.4398 - accuracy: 0.9562 - val_loss: 1.3513 - val_accuracy: 0.7262\n",
            "Epoch 46/70\n",
            "55/55 [==============================] - 11s 202ms/step - loss: 0.4487 - accuracy: 0.9513 - val_loss: 1.5790 - val_accuracy: 0.6861\n",
            "Epoch 47/70\n",
            "55/55 [==============================] - 11s 202ms/step - loss: 0.4420 - accuracy: 0.9525 - val_loss: 1.1993 - val_accuracy: 0.7721\n",
            "Epoch 48/70\n",
            "55/55 [==============================] - 11s 202ms/step - loss: 0.4705 - accuracy: 0.9406 - val_loss: 1.6612 - val_accuracy: 0.6747\n",
            "Epoch 49/70\n",
            "55/55 [==============================] - 11s 202ms/step - loss: 0.5104 - accuracy: 0.9254 - val_loss: 1.3735 - val_accuracy: 0.7320\n",
            "Epoch 50/70\n",
            "55/55 [==============================] - 11s 202ms/step - loss: 0.4344 - accuracy: 0.9525 - val_loss: 1.3977 - val_accuracy: 0.7423\n",
            "Epoch 51/70\n",
            "55/55 [==============================] - 11s 202ms/step - loss: 0.3830 - accuracy: 0.9729 - val_loss: 1.3090 - val_accuracy: 0.7342\n",
            "Epoch 52/70\n",
            "55/55 [==============================] - 11s 202ms/step - loss: 0.3665 - accuracy: 0.9757 - val_loss: 1.4382 - val_accuracy: 0.7365\n",
            "Epoch 53/70\n",
            "55/55 [==============================] - 11s 202ms/step - loss: 0.4565 - accuracy: 0.9399 - val_loss: 1.3985 - val_accuracy: 0.7354\n",
            "Epoch 54/70\n",
            "55/55 [==============================] - 11s 202ms/step - loss: 0.4714 - accuracy: 0.9331 - val_loss: 1.3729 - val_accuracy: 0.7354\n",
            "Epoch 55/70\n",
            "55/55 [==============================] - 11s 202ms/step - loss: 0.4076 - accuracy: 0.9585 - val_loss: 1.2022 - val_accuracy: 0.7812\n",
            "Epoch 56/70\n",
            "55/55 [==============================] - 11s 202ms/step - loss: 0.3732 - accuracy: 0.9701 - val_loss: 1.2906 - val_accuracy: 0.7377\n",
            "Epoch 57/70\n",
            "55/55 [==============================] - 11s 202ms/step - loss: 0.3832 - accuracy: 0.9659 - val_loss: 1.5202 - val_accuracy: 0.7228\n",
            "Epoch 58/70\n",
            "55/55 [==============================] - 11s 202ms/step - loss: 0.4086 - accuracy: 0.9522 - val_loss: 1.3540 - val_accuracy: 0.7526\n",
            "Epoch 59/70\n",
            "55/55 [==============================] - 11s 202ms/step - loss: 0.3939 - accuracy: 0.9605 - val_loss: 1.1637 - val_accuracy: 0.7801\n",
            "Epoch 60/70\n",
            "55/55 [==============================] - 11s 202ms/step - loss: 0.3962 - accuracy: 0.9563 - val_loss: 1.3762 - val_accuracy: 0.7434\n",
            "Epoch 61/70\n",
            "55/55 [==============================] - 11s 202ms/step - loss: 0.3889 - accuracy: 0.9582 - val_loss: 1.2243 - val_accuracy: 0.7721\n",
            "Epoch 62/70\n",
            "55/55 [==============================] - 11s 202ms/step - loss: 0.4296 - accuracy: 0.9414 - val_loss: 1.6519 - val_accuracy: 0.6873\n",
            "Epoch 63/70\n",
            "55/55 [==============================] - 11s 202ms/step - loss: 0.3918 - accuracy: 0.9553 - val_loss: 1.0711 - val_accuracy: 0.7835\n",
            "Epoch 64/70\n",
            "55/55 [==============================] - 11s 202ms/step - loss: 0.3675 - accuracy: 0.9664 - val_loss: 1.2198 - val_accuracy: 0.7778\n",
            "Epoch 65/70\n",
            "55/55 [==============================] - 11s 202ms/step - loss: 0.3544 - accuracy: 0.9682 - val_loss: 1.6510 - val_accuracy: 0.6850\n",
            "Epoch 66/70\n",
            "55/55 [==============================] - 11s 202ms/step - loss: 0.3796 - accuracy: 0.9585 - val_loss: 1.2190 - val_accuracy: 0.7434\n",
            "Epoch 67/70\n",
            "55/55 [==============================] - 11s 202ms/step - loss: 0.3878 - accuracy: 0.9549 - val_loss: 1.3569 - val_accuracy: 0.7342\n",
            "Epoch 68/70\n",
            "55/55 [==============================] - 11s 202ms/step - loss: 0.3563 - accuracy: 0.9658 - val_loss: 1.5177 - val_accuracy: 0.7297\n",
            "Epoch 69/70\n",
            "55/55 [==============================] - 11s 202ms/step - loss: 0.3739 - accuracy: 0.9596 - val_loss: 1.1574 - val_accuracy: 0.7709\n",
            "Epoch 70/70\n",
            "55/55 [==============================] - 11s 202ms/step - loss: 0.3684 - accuracy: 0.9611 - val_loss: 1.2936 - val_accuracy: 0.7560\n"
          ]
        }
      ],
      "source": [
        "results = model.fit(x=x_train, y=y_train, batch_size=128, epochs=70, validation_data=(x_val, y_val))"
      ]
    },
    {
      "cell_type": "markdown",
      "metadata": {
        "id": "WYcVX_H0p_rv"
      },
      "source": [
        "Train vs test history plots"
      ]
    },
    {
      "cell_type": "code",
      "execution_count": 14,
      "metadata": {
        "colab": {
          "base_uri": "https://localhost:8080/",
          "height": 265
        },
        "id": "oT8XBGl3RGAB",
        "outputId": "893cb49e-cbdb-4c48-847f-48a781c4e1bd"
      },
      "outputs": [
        {
          "output_type": "display_data",
          "data": {
            "text/plain": [
              "<Figure size 432x288 with 1 Axes>"
            ],
            "image/png": "[encoded data removed]"
          },
          "metadata": {
            "needs_background": "light"
          }
        }
      ],
      "source": [
        "plt.plot(results.history[\"loss\"], label=\"loss\")\n",
        "plt.plot(results.history[\"val_loss\"], label =\"val_loss\")\n",
        "\n",
        "plt.legend()\n",
        "plt.show()"
      ]
    },
    {
      "cell_type": "code",
      "execution_count": 15,
      "metadata": {
        "colab": {
          "base_uri": "https://localhost:8080/",
          "height": 265
        },
        "id": "KAwkB1uOVtIV",
        "outputId": "787ef40a-961f-4eb4-a9ee-73ef3ebe2702"
      },
      "outputs": [
        {
          "output_type": "display_data",
          "data": {
            "text/plain": [
              "<Figure size 432x288 with 1 Axes>"
            ],
            "image/png": "[encoded data removed]"
          },
          "metadata": {
            "needs_background": "light"
          }
        }
      ],
      "source": [
        "plt.plot(results.history[\"accuracy\"], label=\"accuracy\")\n",
        "plt.plot(results.history[\"val_accuracy\"], label =\"val_accuracy\")\n",
        "\n",
        "plt.legend()\n",
        "plt.show()"
      ]
    },
    {
      "cell_type": "markdown",
      "metadata": {
        "id": "_IzidZYLqEhL"
      },
      "source": [
        "Model Evaluation"
      ]
    },
    {
      "cell_type": "code",
      "execution_count": 16,
      "metadata": {
        "colab": {
          "base_uri": "https://localhost:8080/"
        },
        "id": "R7Xp6kAevp6K",
        "outputId": "ae236101-7ffa-466f-d8d7-57644a1fe6da"
      },
      "outputs": [
        {
          "output_type": "stream",
          "name": "stdout",
          "text": [
            "28/28 [==============================] - 1s 18ms/step - loss: 1.1727 - accuracy: 0.7643\n"
          ]
        }
      ],
      "source": [
        "acc = model.evaluate(x_test,y_test)[1]"
      ]
    },
    {
      "cell_type": "code",
      "execution_count": 17,
      "metadata": {
        "id": "dUI745vC_Yw_"
      },
      "outputs": [],
      "source": [
        "tags = {\n",
        "0 : 'air_conditioner',\n",
        "1 : 'car_horn',\n",
        "2 : 'children_playing',\n",
        "3 : 'dog_bark',\n",
        "4 : 'drilling',\n",
        "5 : 'engine_idling',\n",
        "6 : 'gun_shot',\n",
        "7 : 'jackhammer',\n",
        "8 : 'siren',\n",
        "9 : 'street_music'}"
      ]
    },
    {
      "cell_type": "code",
      "execution_count": 18,
      "metadata": {
        "id": "VyPsvPsuhNCM"
      },
      "outputs": [],
      "source": [
        "y_pred = []\n",
        "for p in x_test:\n",
        "  pred = model.predict(p.reshape(1,128,128,1))\n",
        "  pred = pred.argmax()\n",
        "  y_pred.append(pred)"
      ]
    },
    {
      "cell_type": "code",
      "execution_count": 19,
      "metadata": {
        "id": "0OI6anWMgXap",
        "colab": {
          "base_uri": "https://localhost:8080/",
          "height": 283
        },
        "outputId": "116e7259-a539-49f5-8705-03d6b2f45486"
      },
      "outputs": [
        {
          "output_type": "display_data",
          "data": {
            "text/plain": [
              "<Figure size 432x288 with 2 Axes>"
            ],
            "image/png": "[encoded data removed]"
          },
          "metadata": {
            "needs_background": "light"
          }
        }
      ],
      "source": [
        "data = {'y_Actual': y_test,\n",
        "        'y_Predicted': y_pred\n",
        "        }\n",
        "df = pd.DataFrame(data, columns=['y_Actual','y_Predicted'])\n",
        "\n",
        "confusion_matrix = pd.crosstab(df['y_Actual'], df['y_Predicted'], rownames=['Actual'], colnames=['Predicted'])\n",
        "\n",
        "sn.heatmap(confusion_matrix, annot=True)\n",
        "plt.show()"
      ]
    },
    {
      "cell_type": "code",
      "execution_count": 20,
      "metadata": {
        "id": "4iS9Tmx-nUFS",
        "colab": {
          "base_uri": "https://localhost:8080/"
        },
        "outputId": "c554c4ae-898c-4f67-914a-3aaf0910d701"
      },
      "outputs": [
        {
          "output_type": "stream",
          "name": "stdout",
          "text": [
            "accuracy for air_conditioner = 0.9655172413793104\n",
            "accuracy for car_horn = 0.75\n",
            "accuracy for children_playing = 0.6923076923076923\n",
            "accuracy for dog_bark = 0.6880733944954128\n",
            "accuracy for drilling = 0.7154471544715447\n",
            "accuracy for engine_idling = 0.7894736842105263\n",
            "accuracy for gun_shot = 0.8461538461538461\n",
            "accuracy for jackhammer = 0.8021978021978022\n",
            "accuracy for siren = 0.8987341772151899\n",
            "accuracy for street_music = 0.6826923076923077\n",
            "\n",
            "accuracy = 0.7643020749092102\n"
          ]
        }
      ],
      "source": [
        "for key,value in tags.items():\n",
        "  cm = confusion_matrix[key][key] / confusion_matrix[key].sum()\n",
        "  print(f\"accuracy for {value} = {cm}\")\n",
        "\n",
        "print(f\"\\naccuracy = {acc}\")\n"
      ]
    },
    {
      "cell_type": "markdown",
      "metadata": {
        "id": "2vSfywrN_jyq"
      },
      "source": [
        "Tests with test dataset"
      ]
    },
    {
      "cell_type": "code",
      "execution_count": 21,
      "metadata": {
        "id": "pqbWshO08qjZ",
        "colab": {
          "base_uri": "https://localhost:8080/"
        },
        "outputId": "29ef399c-d470-4524-9050-7ce25fe580bd"
      },
      "outputs": [
        {
          "output_type": "stream",
          "name": "stdout",
          "text": [
            "x_test[3] is dog_bark\n",
            "x_test[3] is 0.9828981161117554 percent dog_bark\n"
          ]
        }
      ],
      "source": [
        "print(f\"x_test[3] is {tags[y_test[3]]}\")\n",
        "\n",
        "predict_1 = model.predict(x_test[3].reshape(1,128,128,1))\n",
        "tag_1 = predict_1.argmax()\n",
        "probability_1 = predict_1.max()\n",
        "\n",
        "print(f\"x_test[3] is {probability_1} percent {tags[tag_1]}\")"
      ]
    },
    {
      "cell_type": "code",
      "execution_count": 22,
      "metadata": {
        "id": "KWQuoNwO-geL",
        "colab": {
          "base_uri": "https://localhost:8080/"
        },
        "outputId": "764f9a8e-0951-4522-8412-99a4d32145b4"
      },
      "outputs": [
        {
          "output_type": "stream",
          "name": "stdout",
          "text": [
            "x_test[33] is jackhammer\n",
            "x_test[33] is 0.6963932514190674 percent engine_idling\n"
          ]
        }
      ],
      "source": [
        "print(f\"x_test[33] is {tags[y_test[33]]}\")\n",
        "\n",
        "predict_2 = model.predict(x_test[33].reshape(1,128,128,1))\n",
        "tag_2 = predict_2.argmax()\n",
        "probability_2 = predict_2.max()\n",
        "\n",
        "print(f\"x_test[33] is {probability_2} percent {tags[tag_2]}\")"
      ]
    },
    {
      "cell_type": "code",
      "execution_count": 23,
      "metadata": {
        "id": "T3djFSOq-qK3",
        "colab": {
          "base_uri": "https://localhost:8080/"
        },
        "outputId": "247251b6-3215-4c3c-d0ed-9eca899c29c3"
      },
      "outputs": [
        {
          "output_type": "stream",
          "name": "stdout",
          "text": [
            "x_test[416] is air_conditioner\n",
            "x_test[416] is 0.9867836236953735 percent air_conditioner\n"
          ]
        }
      ],
      "source": [
        "print(f\"x_test[416] is {tags[y_test[416]]}\")\n",
        "\n",
        "predict_3 = model.predict(x_test[416].reshape(1,128,128,1))\n",
        "tag_3 = predict_3.argmax()\n",
        "probability_3 = predict_3.max()\n",
        "\n",
        "print(f\"x_test[416] is {probability_3} percent {tags[tag_3]}\")"
      ]
    }
  ],
  "metadata": {
    "accelerator": "GPU",
    "colab": {
      "collapsed_sections": [],
      "provenance": []
    },
    "kernelspec": {
      "display_name": "Python 3",
      "name": "python3"
    },
    "language_info": {
      "name": "python"
    }
  },
  "nbformat": 4,
  "nbformat_minor": 0
}