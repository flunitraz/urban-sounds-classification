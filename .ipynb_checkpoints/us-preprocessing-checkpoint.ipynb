{
 "cells": [
  {
   "cell_type": "code",
   "execution_count": 1,
   "id": "fdfb1ebd",
   "metadata": {
    "scrolled": false
   },
   "outputs": [],
   "source": [
    "import pandas as pd\n",
    "import numpy as np\n",
    "import librosa\n",
    "import cv2\n",
    "import glob\n",
    "import os\n",
    "import matplotlib.pyplot as plt\n",
    "import matplotlib.image as mpimg\n",
    "from sklearn.model_selection import train_test_split"
   ]
  },
  {
   "cell_type": "markdown",
   "id": "c705d69f",
   "metadata": {},
   "source": [
    " "
   ]
  },
  {
   "cell_type": "code",
   "execution_count": 2,
   "id": "e0191efa",
   "metadata": {},
   "outputs": [],
   "source": [
    "path_list = []\n",
    "parent_dir = '/home/felek/Desktop/spectrograms-20221003T075444Z-001/spectrograms'\n",
    "sub_dirs = np.array(['0','1','2','3','4','5','6','7','8','9'])\n",
    "for sub_dir in sub_dirs:\n",
    "    for spec in glob.glob(os.path.join(parent_dir,sub_dir,'*.png')):\n",
    "        path_list.append(spec)"
   ]
  },
  {
   "cell_type": "markdown",
   "id": "74d10027",
   "metadata": {},
   "source": [
    " "
   ]
  },
  {
   "cell_type": "code",
   "execution_count": 3,
   "id": "726cb8a4",
   "metadata": {},
   "outputs": [],
   "source": [
    "tags = {\n",
    "0 : 'air_conditioner',\n",
    "1 : 'car_horn',\n",
    "2 : 'children_playing',\n",
    "3 : 'dog_bark',\n",
    "4 : 'drilling',\n",
    "5 : 'engine_idling',\n",
    "6 : 'gun_shot',\n",
    "7 : 'jackhammer',\n",
    "8 : 'siren',\n",
    "9 : 'street_music'}\n",
    "\n",
    "data = []\n",
    "for path in path_list:\n",
    "    img = mpimg.imread(path)\n",
    "    class_id = path.split('/')[7].split('-')[1]\n",
    "    tag = tags[int(class_id)]\n",
    "    img = cv2.cvtColor(img, cv2.COLOR_RGB2GRAY) #Grayscale\n",
    "    img = img / 255 # Normalization\n",
    "    img = cv2.resize(img, (250, 187)) #500x374 resized to 250x187\n",
    "    data.append([img,tag])"
   ]
  },
  {
   "cell_type": "code",
   "execution_count": 4,
   "id": "13e77534",
   "metadata": {},
   "outputs": [],
   "source": [
    "df = pd.DataFrame(data)"
   ]
  },
  {
   "cell_type": "code",
   "execution_count": 5,
   "id": "c7ad9b68",
   "metadata": {},
   "outputs": [],
   "source": [
    "df.columns = ['img','tag']"
   ]
  },
  {
   "cell_type": "code",
   "execution_count": 6,
   "id": "0cf4c2e8",
   "metadata": {},
   "outputs": [
    {
     "data": {
      "text/html": [
       "<div>\n",
       "<style scoped>\n",
       "    .dataframe tbody tr th:only-of-type {\n",
       "        vertical-align: middle;\n",
       "    }\n",
       "\n",
       "    .dataframe tbody tr th {\n",
       "        vertical-align: top;\n",
       "    }\n",
       "\n",
       "    .dataframe thead th {\n",
       "        text-align: right;\n",
       "    }\n",
       "</style>\n",
       "<table border=\"1\" class=\"dataframe\">\n",
       "  <thead>\n",
       "    <tr style=\"text-align: right;\">\n",
       "      <th></th>\n",
       "      <th>img</th>\n",
       "      <th>tag</th>\n",
       "    </tr>\n",
       "  </thead>\n",
       "  <tbody>\n",
       "    <tr>\n",
       "      <th>0</th>\n",
       "      <td>[[0.003921569, 0.003921569, 0.0017954634, 2.19...</td>\n",
       "      <td>air_conditioner</td>\n",
       "    </tr>\n",
       "    <tr>\n",
       "      <th>1</th>\n",
       "      <td>[[0.003921569, 0.003921569, 0.0017954634, 2.19...</td>\n",
       "      <td>air_conditioner</td>\n",
       "    </tr>\n",
       "    <tr>\n",
       "      <th>2</th>\n",
       "      <td>[[0.003921569, 0.003921569, 0.0017954634, 2.19...</td>\n",
       "      <td>air_conditioner</td>\n",
       "    </tr>\n",
       "    <tr>\n",
       "      <th>3</th>\n",
       "      <td>[[0.003921569, 0.003921569, 0.0017954634, 2.19...</td>\n",
       "      <td>air_conditioner</td>\n",
       "    </tr>\n",
       "    <tr>\n",
       "      <th>4</th>\n",
       "      <td>[[0.003921569, 0.003921569, 0.0017954634, 2.19...</td>\n",
       "      <td>air_conditioner</td>\n",
       "    </tr>\n",
       "    <tr>\n",
       "      <th>...</th>\n",
       "      <td>...</td>\n",
       "      <td>...</td>\n",
       "    </tr>\n",
       "    <tr>\n",
       "      <th>8727</th>\n",
       "      <td>[[0.003921569, 0.003921569, 0.0017954634, 2.19...</td>\n",
       "      <td>street_music</td>\n",
       "    </tr>\n",
       "    <tr>\n",
       "      <th>8728</th>\n",
       "      <td>[[0.003921569, 0.003921569, 0.0017954634, 2.19...</td>\n",
       "      <td>street_music</td>\n",
       "    </tr>\n",
       "    <tr>\n",
       "      <th>8729</th>\n",
       "      <td>[[0.003921569, 0.003921569, 0.0017954634, 2.19...</td>\n",
       "      <td>street_music</td>\n",
       "    </tr>\n",
       "    <tr>\n",
       "      <th>8730</th>\n",
       "      <td>[[0.003921569, 0.003921569, 0.0017954634, 2.19...</td>\n",
       "      <td>street_music</td>\n",
       "    </tr>\n",
       "    <tr>\n",
       "      <th>8731</th>\n",
       "      <td>[[0.003921569, 0.003921569, 0.0017954634, 2.19...</td>\n",
       "      <td>street_music</td>\n",
       "    </tr>\n",
       "  </tbody>\n",
       "</table>\n",
       "<p>8732 rows × 2 columns</p>\n",
       "</div>"
      ],
      "text/plain": [
       "                                                    img              tag\n",
       "0     [[0.003921569, 0.003921569, 0.0017954634, 2.19...  air_conditioner\n",
       "1     [[0.003921569, 0.003921569, 0.0017954634, 2.19...  air_conditioner\n",
       "2     [[0.003921569, 0.003921569, 0.0017954634, 2.19...  air_conditioner\n",
       "3     [[0.003921569, 0.003921569, 0.0017954634, 2.19...  air_conditioner\n",
       "4     [[0.003921569, 0.003921569, 0.0017954634, 2.19...  air_conditioner\n",
       "...                                                 ...              ...\n",
       "8727  [[0.003921569, 0.003921569, 0.0017954634, 2.19...     street_music\n",
       "8728  [[0.003921569, 0.003921569, 0.0017954634, 2.19...     street_music\n",
       "8729  [[0.003921569, 0.003921569, 0.0017954634, 2.19...     street_music\n",
       "8730  [[0.003921569, 0.003921569, 0.0017954634, 2.19...     street_music\n",
       "8731  [[0.003921569, 0.003921569, 0.0017954634, 2.19...     street_music\n",
       "\n",
       "[8732 rows x 2 columns]"
      ]
     },
     "execution_count": 6,
     "metadata": {},
     "output_type": "execute_result"
    }
   ],
   "source": [
    "df"
   ]
  },
  {
   "cell_type": "code",
   "execution_count": 7,
   "id": "900bafe3",
   "metadata": {},
   "outputs": [],
   "source": [
    "X = df['img']\n",
    "Y = df['tag']"
   ]
  },
  {
   "cell_type": "code",
   "execution_count": 8,
   "id": "6155918d",
   "metadata": {},
   "outputs": [],
   "source": [
    "x_train, x_temp, y_train, y_temp = train_test_split(X,Y, train_size = 0.8)\n",
    "x_val, x_test, y_val, y_test = train_test_split(x_temp, y_temp, train_size = 0.5)"
   ]
  },
  {
   "cell_type": "code",
   "execution_count": 10,
   "id": "97f24829",
   "metadata": {},
   "outputs": [],
   "source": [
    "x_train.to_csv(\"./datasets/x_train.csv\")\n",
    "x_val.to_csv(\"./datasets/x_val.csv\")\n",
    "x_test.to_csv(\"./datasets/x_test.csv\")\n",
    "y_train.to_csv(\"./datasets/y_train.csv\")\n",
    "y_val.to_csv(\"./datasets/y_val.csv\")\n",
    "y_test.to_csv(\"./datasets/y_test.csv\")"
   ]
  }
 ],
 "metadata": {
  "kernelspec": {
   "display_name": "Python 3 (ipykernel)",
   "language": "python",
   "name": "python3"
  },
  "language_info": {
   "codemirror_mode": {
    "name": "ipython",
    "version": 3
   },
   "file_extension": ".py",
   "mimetype": "text/x-python",
   "name": "python",
   "nbconvert_exporter": "python",
   "pygments_lexer": "ipython3",
   "version": "3.10.4"
  }
 },
 "nbformat": 4,
 "nbformat_minor": 5
}
